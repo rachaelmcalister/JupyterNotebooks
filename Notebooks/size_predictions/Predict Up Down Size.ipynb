{
 "cells": [
  {
   "cell_type": "code",
   "execution_count": 1,
   "metadata": {},
   "outputs": [],
   "source": [
    "from sys import path\n",
    "import pandas as pd\n",
    "from sklearn.linear_model import LogisticRegression\n",
    "from sklearn.ensemble import RandomForestRegressor, RandomForestClassifier\n",
    "from sklearn.metrics import roc_curve, auc\n",
    "import numpy as np\n",
    "import matplotlib.pyplot as plt"
   ]
  },
  {
   "cell_type": "code",
   "execution_count": 2,
   "metadata": {},
   "outputs": [],
   "source": [
    "path.append(\"/Users/rachaelmcalister/warehouse-script/python/ab_weekly_tests/\")\n",
    "path.append(\"/Users/rachaelmcalister/jupyter_repo/\")"
   ]
  },
  {
   "cell_type": "code",
   "execution_count": 3,
   "metadata": {},
   "outputs": [],
   "source": [
    "from db_connector_user import DBConnectorUser\n",
    "from db_connection_user import DBConnectionUser\n",
    "import pandas as pd\n",
    "from useful_functions import executeScriptsFromFile, calculate_conversion_CIs"
   ]
  },
  {
   "cell_type": "code",
   "execution_count": 4,
   "metadata": {},
   "outputs": [],
   "source": [
    "from yaml_util import *"
   ]
  },
  {
   "cell_type": "markdown",
   "metadata": {},
   "source": [
    "# Setup Database Connection"
   ]
  },
  {
   "cell_type": "code",
   "execution_count": 5,
   "metadata": {},
   "outputs": [],
   "source": [
    "db_settings_dict = load_yaml_file('/Users/rachaelmcalister/jupyter_repo/db_settings.yml')\n",
    "db_settings = db_settings_dict.get('db_settings')\n",
    "DBConnectorUser(db_settings)\n",
    "DBConnectionUser.setup_db_settings(db_settings)"
   ]
  },
  {
   "cell_type": "markdown",
   "metadata": {},
   "source": [
    "# Import Data"
   ]
  },
  {
   "cell_type": "code",
   "execution_count": 6,
   "metadata": {},
   "outputs": [],
   "source": [
    "df = executeScriptsFromFile('sql_queries/predict_up_down_size', DBConnectionUser)"
   ]
  },
  {
   "cell_type": "markdown",
   "metadata": {},
   "source": [
    "# Results"
   ]
  },
  {
   "cell_type": "code",
   "execution_count": 7,
   "metadata": {},
   "outputs": [],
   "source": [
    "df['quantity_correct'] = df.quantity*df.correct_pred\n",
    "df['return_quantity_correct'] = df.return_quantity*df.correct_pred\n",
    "df['kept_quantity_correct'] = df.quantity_correct - df.return_quantity_correct"
   ]
  },
  {
   "cell_type": "code",
   "execution_count": 8,
   "metadata": {},
   "outputs": [],
   "source": [
    "garments = [1, 6, 9, 12]\n",
    "df = df[df.garment_category_id.isin(garments)]"
   ]
  },
  {
   "cell_type": "code",
   "execution_count": 9,
   "metadata": {},
   "outputs": [],
   "source": [
    "df_agg = pd.DataFrame(df.groupby(['garment_category_id']).agg({'garment_category_id':'size', 'quantity': 'sum',\n",
    "                                         'return_quantity': 'sum', 'correct_pred': 'sum',\n",
    "                                        'quantity_correct': 'sum', 'return_quantity_correct': 'sum',\n",
    "                                                              'kept_quantity_correct': 'sum'}).rename(columns={\n",
    "    'garment_category_id': 'num_entries',\n",
    "    'correct_pred': 'num_entries_correct',\n",
    "})).reset_index()"
   ]
  },
  {
   "cell_type": "code",
   "execution_count": 10,
   "metadata": {},
   "outputs": [],
   "source": [
    "# Include baseline % kept for comparison\n",
    "df_agg['pct_quantity_correct_kept'] = (df_agg.kept_quantity_correct)/df_agg.quantity_correct\n",
    "df_agg['pct_quantity_kept'] = (df_agg.quantity-df_agg.return_quantity)/df_agg.quantity\n"
   ]
  },
  {
   "cell_type": "code",
   "execution_count": 11,
   "metadata": {},
   "outputs": [],
   "source": [
    "# Calculate 95% confidence intervals\n",
    "df_agg['quantity_correct_kept_CI'] = df_agg.apply(lambda x: calculate_conversion_CIs(x.pct_quantity_correct_kept, x.quantity_correct), axis=1)\n",
    "df_agg['quantity_kept_CI'] = df_agg.apply(lambda x: calculate_conversion_CIs(x.pct_quantity_kept, x.quantity), axis=1)\n",
    "df_agg.set_index('garment_category_id', inplace=True)\n"
   ]
  },
  {
   "cell_type": "code",
   "execution_count": 12,
   "metadata": {},
   "outputs": [
    {
     "data": {
      "text/html": [
       "<div>\n",
       "<style scoped>\n",
       "    .dataframe tbody tr th:only-of-type {\n",
       "        vertical-align: middle;\n",
       "    }\n",
       "\n",
       "    .dataframe tbody tr th {\n",
       "        vertical-align: top;\n",
       "    }\n",
       "\n",
       "    .dataframe thead th {\n",
       "        text-align: right;\n",
       "    }\n",
       "</style>\n",
       "<table border=\"1\" class=\"dataframe\">\n",
       "  <thead>\n",
       "    <tr style=\"text-align: right;\">\n",
       "      <th></th>\n",
       "      <th>num_entries</th>\n",
       "      <th>quantity</th>\n",
       "      <th>return_quantity</th>\n",
       "      <th>num_entries_correct</th>\n",
       "      <th>quantity_correct</th>\n",
       "      <th>return_quantity_correct</th>\n",
       "      <th>kept_quantity_correct</th>\n",
       "    </tr>\n",
       "    <tr>\n",
       "      <th>garment_category_id</th>\n",
       "      <th></th>\n",
       "      <th></th>\n",
       "      <th></th>\n",
       "      <th></th>\n",
       "      <th></th>\n",
       "      <th></th>\n",
       "      <th></th>\n",
       "    </tr>\n",
       "  </thead>\n",
       "  <tbody>\n",
       "    <tr>\n",
       "      <th>1</th>\n",
       "      <td>2189</td>\n",
       "      <td>2191</td>\n",
       "      <td>1396</td>\n",
       "      <td>974.0</td>\n",
       "      <td>974</td>\n",
       "      <td>602</td>\n",
       "      <td>372</td>\n",
       "    </tr>\n",
       "    <tr>\n",
       "      <th>6</th>\n",
       "      <td>1904</td>\n",
       "      <td>1921</td>\n",
       "      <td>862</td>\n",
       "      <td>909.0</td>\n",
       "      <td>917</td>\n",
       "      <td>419</td>\n",
       "      <td>498</td>\n",
       "    </tr>\n",
       "    <tr>\n",
       "      <th>9</th>\n",
       "      <td>502</td>\n",
       "      <td>505</td>\n",
       "      <td>267</td>\n",
       "      <td>152.0</td>\n",
       "      <td>154</td>\n",
       "      <td>72</td>\n",
       "      <td>82</td>\n",
       "    </tr>\n",
       "    <tr>\n",
       "      <th>12</th>\n",
       "      <td>1288</td>\n",
       "      <td>1290</td>\n",
       "      <td>584</td>\n",
       "      <td>423.0</td>\n",
       "      <td>424</td>\n",
       "      <td>191</td>\n",
       "      <td>233</td>\n",
       "    </tr>\n",
       "  </tbody>\n",
       "</table>\n",
       "</div>"
      ],
      "text/plain": [
       "                     num_entries  quantity  return_quantity  \\\n",
       "garment_category_id                                           \n",
       "1                           2189      2191             1396   \n",
       "6                           1904      1921              862   \n",
       "9                            502       505              267   \n",
       "12                          1288      1290              584   \n",
       "\n",
       "                     num_entries_correct  quantity_correct  \\\n",
       "garment_category_id                                          \n",
       "1                                  974.0               974   \n",
       "6                                  909.0               917   \n",
       "9                                  152.0               154   \n",
       "12                                 423.0               424   \n",
       "\n",
       "                     return_quantity_correct  kept_quantity_correct  \n",
       "garment_category_id                                                  \n",
       "1                                        602                    372  \n",
       "6                                        419                    498  \n",
       "9                                         72                     82  \n",
       "12                                       191                    233  "
      ]
     },
     "execution_count": 12,
     "metadata": {},
     "output_type": "execute_result"
    }
   ],
   "source": [
    "df_agg[df_agg.columns[:7]]\n"
   ]
  },
  {
   "cell_type": "code",
   "execution_count": 13,
   "metadata": {},
   "outputs": [
    {
     "data": {
      "text/html": [
       "<div>\n",
       "<style scoped>\n",
       "    .dataframe tbody tr th:only-of-type {\n",
       "        vertical-align: middle;\n",
       "    }\n",
       "\n",
       "    .dataframe tbody tr th {\n",
       "        vertical-align: top;\n",
       "    }\n",
       "\n",
       "    .dataframe thead th {\n",
       "        text-align: right;\n",
       "    }\n",
       "</style>\n",
       "<table border=\"1\" class=\"dataframe\">\n",
       "  <thead>\n",
       "    <tr style=\"text-align: right;\">\n",
       "      <th></th>\n",
       "      <th>pct_quantity_correct_kept</th>\n",
       "      <th>pct_quantity_kept</th>\n",
       "      <th>quantity_correct_kept_CI</th>\n",
       "      <th>quantity_kept_CI</th>\n",
       "    </tr>\n",
       "    <tr>\n",
       "      <th>garment_category_id</th>\n",
       "      <th></th>\n",
       "      <th></th>\n",
       "      <th></th>\n",
       "      <th></th>\n",
       "    </tr>\n",
       "  </thead>\n",
       "  <tbody>\n",
       "    <tr>\n",
       "      <th>1</th>\n",
       "      <td>0.381930</td>\n",
       "      <td>0.362848</td>\n",
       "      <td>[0.351, 0.412]</td>\n",
       "      <td>[0.343, 0.383]</td>\n",
       "    </tr>\n",
       "    <tr>\n",
       "      <th>6</th>\n",
       "      <td>0.543075</td>\n",
       "      <td>0.551275</td>\n",
       "      <td>[0.511, 0.575]</td>\n",
       "      <td>[0.529, 0.574]</td>\n",
       "    </tr>\n",
       "    <tr>\n",
       "      <th>9</th>\n",
       "      <td>0.532468</td>\n",
       "      <td>0.471287</td>\n",
       "      <td>[0.454, 0.611]</td>\n",
       "      <td>[0.428, 0.515]</td>\n",
       "    </tr>\n",
       "    <tr>\n",
       "      <th>12</th>\n",
       "      <td>0.549528</td>\n",
       "      <td>0.547287</td>\n",
       "      <td>[0.502, 0.597]</td>\n",
       "      <td>[0.52, 0.574]</td>\n",
       "    </tr>\n",
       "  </tbody>\n",
       "</table>\n",
       "</div>"
      ],
      "text/plain": [
       "                     pct_quantity_correct_kept  pct_quantity_kept  \\\n",
       "garment_category_id                                                 \n",
       "1                                     0.381930           0.362848   \n",
       "6                                     0.543075           0.551275   \n",
       "9                                     0.532468           0.471287   \n",
       "12                                    0.549528           0.547287   \n",
       "\n",
       "                    quantity_correct_kept_CI quantity_kept_CI  \n",
       "garment_category_id                                            \n",
       "1                             [0.351, 0.412]   [0.343, 0.383]  \n",
       "6                             [0.511, 0.575]   [0.529, 0.574]  \n",
       "9                             [0.454, 0.611]   [0.428, 0.515]  \n",
       "12                            [0.502, 0.597]    [0.52, 0.574]  "
      ]
     },
     "execution_count": 13,
     "metadata": {},
     "output_type": "execute_result"
    }
   ],
   "source": [
    "df_agg[df_agg.columns[7:]]"
   ]
  },
  {
   "cell_type": "code",
   "execution_count": null,
   "metadata": {},
   "outputs": [],
   "source": []
  }
 ],
 "metadata": {
  "kernelspec": {
   "display_name": "python3-venv",
   "language": "python",
   "name": "python3-venv"
  },
  "language_info": {
   "codemirror_mode": {
    "name": "ipython",
    "version": 3
   },
   "file_extension": ".py",
   "mimetype": "text/x-python",
   "name": "python",
   "nbconvert_exporter": "python",
   "pygments_lexer": "ipython3",
   "version": "3.7.7"
  }
 },
 "nbformat": 4,
 "nbformat_minor": 4
}
