{
 "cells": [
  {
   "cell_type": "code",
   "execution_count": 1,
   "metadata": {},
   "outputs": [],
   "source": [
    "from sys import path\n",
    "import pandas as pd\n",
    "from sklearn.linear_model import LogisticRegression\n",
    "from sklearn.ensemble import RandomForestRegressor, RandomForestClassifier\n",
    "from sklearn.metrics import roc_curve, auc\n",
    "import numpy as np\n",
    "import matplotlib.pyplot as plt"
   ]
  },
  {
   "cell_type": "code",
   "execution_count": 2,
   "metadata": {},
   "outputs": [],
   "source": [
    "path.append(\"/Users/rachaelmcalister/warehouse-script/python/ab_weekly_tests/\")\n",
    "path.append(\"/Users/rachaelmcalister/jupyter_repo/\")"
   ]
  },
  {
   "cell_type": "code",
   "execution_count": 3,
   "metadata": {},
   "outputs": [],
   "source": [
    "from db_connector_user import DBConnectorUser\n",
    "from db_connection_user import DBConnectionUser\n",
    "import pandas as pd\n",
    "from useful_functions import executeScriptsFromFile, calculate_conversion_CIs"
   ]
  },
  {
   "cell_type": "code",
   "execution_count": 4,
   "metadata": {},
   "outputs": [],
   "source": [
    "from yaml_util import *"
   ]
  },
  {
   "cell_type": "markdown",
   "metadata": {},
   "source": [
    "# Setup Database Connection"
   ]
  },
  {
   "cell_type": "code",
   "execution_count": 5,
   "metadata": {},
   "outputs": [],
   "source": [
    "db_settings_dict = load_yaml_file('/Users/rachaelmcalister/jupyter_repo/db_settings.yml')\n",
    "db_settings = db_settings_dict.get('db_settings')\n",
    "DBConnectorUser(db_settings)\n",
    "DBConnectionUser.setup_db_settings(db_settings)"
   ]
  },
  {
   "cell_type": "markdown",
   "metadata": {},
   "source": [
    "# Import Data"
   ]
  },
  {
   "cell_type": "code",
   "execution_count": 6,
   "metadata": {},
   "outputs": [],
   "source": [
    "df = executeScriptsFromFile('sql_queries/predict_signup_size_to_purchase_size', DBConnectionUser)"
   ]
  },
  {
   "cell_type": "markdown",
   "metadata": {},
   "source": [
    "# Results"
   ]
  },
  {
   "cell_type": "code",
   "execution_count": 7,
   "metadata": {},
   "outputs": [],
   "source": [
    "df['quantity_correct'] = df.quantity*df.correct_pred\n",
    "df['return_quantity_correct'] = df.return_quantity*df.correct_pred\n",
    "df['kept_quantity_correct'] = df.quantity_correct - df.return_quantity_correct"
   ]
  },
  {
   "cell_type": "code",
   "execution_count": 8,
   "metadata": {},
   "outputs": [],
   "source": [
    "garments = [1, 6, 9, 12]\n",
    "df = df[df.garment_category_id.isin(garments)]"
   ]
  },
  {
   "cell_type": "code",
   "execution_count": 9,
   "metadata": {},
   "outputs": [],
   "source": [
    "df_agg = pd.DataFrame(df.groupby(['garment_category_id']).agg({'garment_category_id':'size', 'quantity': 'sum',\n",
    "                                         'return_quantity': 'sum', 'correct_pred': 'sum',\n",
    "                                        'quantity_correct': 'sum', 'return_quantity_correct': 'sum',\n",
    "                                                              'kept_quantity_correct': 'sum'}).rename(columns={\n",
    "    'garment_category_id': 'num_entries',\n",
    "    'correct_pred': 'num_entries_correct',\n",
    "})).reset_index()"
   ]
  },
  {
   "cell_type": "code",
   "execution_count": 10,
   "metadata": {},
   "outputs": [],
   "source": [
    "# Include baseline % kept for comparison\n",
    "df_agg['pct_quantity_correct_kept'] = (df_agg.kept_quantity_correct)/df_agg.quantity_correct\n",
    "df_agg['pct_quantity_kept'] = (df_agg.quantity-df_agg.return_quantity)/df_agg.quantity\n"
   ]
  },
  {
   "cell_type": "code",
   "execution_count": 11,
   "metadata": {},
   "outputs": [],
   "source": [
    "# Calculate 95% confidence intervals\n",
    "df_agg['quantity_correct_kept_CI'] = df_agg.apply(lambda x: calculate_conversion_CIs(x.pct_quantity_correct_kept, x.quantity_correct), axis=1)\n",
    "df_agg['quantity_kept_CI'] = df_agg.apply(lambda x: calculate_conversion_CIs(x.pct_quantity_kept, x.quantity), axis=1)\n",
    "df_agg.set_index('garment_category_id', inplace=True)\n"
   ]
  },
  {
   "cell_type": "code",
   "execution_count": 12,
   "metadata": {},
   "outputs": [
    {
     "data": {
      "text/html": [
       "<div>\n",
       "<style scoped>\n",
       "    .dataframe tbody tr th:only-of-type {\n",
       "        vertical-align: middle;\n",
       "    }\n",
       "\n",
       "    .dataframe tbody tr th {\n",
       "        vertical-align: top;\n",
       "    }\n",
       "\n",
       "    .dataframe thead th {\n",
       "        text-align: right;\n",
       "    }\n",
       "</style>\n",
       "<table border=\"1\" class=\"dataframe\">\n",
       "  <thead>\n",
       "    <tr style=\"text-align: right;\">\n",
       "      <th></th>\n",
       "      <th>num_entries</th>\n",
       "      <th>quantity</th>\n",
       "      <th>return_quantity</th>\n",
       "      <th>num_entries_correct</th>\n",
       "      <th>quantity_correct</th>\n",
       "      <th>return_quantity_correct</th>\n",
       "      <th>kept_quantity_correct</th>\n",
       "    </tr>\n",
       "    <tr>\n",
       "      <th>garment_category_id</th>\n",
       "      <th></th>\n",
       "      <th></th>\n",
       "      <th></th>\n",
       "      <th></th>\n",
       "      <th></th>\n",
       "      <th></th>\n",
       "      <th></th>\n",
       "    </tr>\n",
       "  </thead>\n",
       "  <tbody>\n",
       "    <tr>\n",
       "      <th>1</th>\n",
       "      <td>2189</td>\n",
       "      <td>2191</td>\n",
       "      <td>1396</td>\n",
       "      <td>943.0</td>\n",
       "      <td>943</td>\n",
       "      <td>582</td>\n",
       "      <td>361</td>\n",
       "    </tr>\n",
       "    <tr>\n",
       "      <th>6</th>\n",
       "      <td>1904</td>\n",
       "      <td>1921</td>\n",
       "      <td>862</td>\n",
       "      <td>865.0</td>\n",
       "      <td>871</td>\n",
       "      <td>406</td>\n",
       "      <td>465</td>\n",
       "    </tr>\n",
       "    <tr>\n",
       "      <th>9</th>\n",
       "      <td>502</td>\n",
       "      <td>505</td>\n",
       "      <td>267</td>\n",
       "      <td>143.0</td>\n",
       "      <td>145</td>\n",
       "      <td>67</td>\n",
       "      <td>78</td>\n",
       "    </tr>\n",
       "    <tr>\n",
       "      <th>12</th>\n",
       "      <td>1288</td>\n",
       "      <td>1290</td>\n",
       "      <td>584</td>\n",
       "      <td>396.0</td>\n",
       "      <td>397</td>\n",
       "      <td>181</td>\n",
       "      <td>216</td>\n",
       "    </tr>\n",
       "  </tbody>\n",
       "</table>\n",
       "</div>"
      ],
      "text/plain": [
       "                     num_entries  quantity  return_quantity  \\\n",
       "garment_category_id                                           \n",
       "1                           2189      2191             1396   \n",
       "6                           1904      1921              862   \n",
       "9                            502       505              267   \n",
       "12                          1288      1290              584   \n",
       "\n",
       "                     num_entries_correct  quantity_correct  \\\n",
       "garment_category_id                                          \n",
       "1                                  943.0               943   \n",
       "6                                  865.0               871   \n",
       "9                                  143.0               145   \n",
       "12                                 396.0               397   \n",
       "\n",
       "                     return_quantity_correct  kept_quantity_correct  \n",
       "garment_category_id                                                  \n",
       "1                                        582                    361  \n",
       "6                                        406                    465  \n",
       "9                                         67                     78  \n",
       "12                                       181                    216  "
      ]
     },
     "execution_count": 12,
     "metadata": {},
     "output_type": "execute_result"
    }
   ],
   "source": [
    "df_agg[df_agg.columns[:7]]\n"
   ]
  },
  {
   "cell_type": "code",
   "execution_count": 13,
   "metadata": {},
   "outputs": [
    {
     "data": {
      "text/html": [
       "<div>\n",
       "<style scoped>\n",
       "    .dataframe tbody tr th:only-of-type {\n",
       "        vertical-align: middle;\n",
       "    }\n",
       "\n",
       "    .dataframe tbody tr th {\n",
       "        vertical-align: top;\n",
       "    }\n",
       "\n",
       "    .dataframe thead th {\n",
       "        text-align: right;\n",
       "    }\n",
       "</style>\n",
       "<table border=\"1\" class=\"dataframe\">\n",
       "  <thead>\n",
       "    <tr style=\"text-align: right;\">\n",
       "      <th></th>\n",
       "      <th>pct_quantity_correct_kept</th>\n",
       "      <th>pct_quantity_kept</th>\n",
       "      <th>quantity_correct_kept_CI</th>\n",
       "      <th>quantity_kept_CI</th>\n",
       "    </tr>\n",
       "    <tr>\n",
       "      <th>garment_category_id</th>\n",
       "      <th></th>\n",
       "      <th></th>\n",
       "      <th></th>\n",
       "      <th></th>\n",
       "    </tr>\n",
       "  </thead>\n",
       "  <tbody>\n",
       "    <tr>\n",
       "      <th>1</th>\n",
       "      <td>0.382821</td>\n",
       "      <td>0.362848</td>\n",
       "      <td>[0.352, 0.414]</td>\n",
       "      <td>[0.343, 0.383]</td>\n",
       "    </tr>\n",
       "    <tr>\n",
       "      <th>6</th>\n",
       "      <td>0.533869</td>\n",
       "      <td>0.551275</td>\n",
       "      <td>[0.501, 0.567]</td>\n",
       "      <td>[0.529, 0.574]</td>\n",
       "    </tr>\n",
       "    <tr>\n",
       "      <th>9</th>\n",
       "      <td>0.537931</td>\n",
       "      <td>0.471287</td>\n",
       "      <td>[0.457, 0.619]</td>\n",
       "      <td>[0.428, 0.515]</td>\n",
       "    </tr>\n",
       "    <tr>\n",
       "      <th>12</th>\n",
       "      <td>0.544081</td>\n",
       "      <td>0.547287</td>\n",
       "      <td>[0.495, 0.593]</td>\n",
       "      <td>[0.52, 0.574]</td>\n",
       "    </tr>\n",
       "  </tbody>\n",
       "</table>\n",
       "</div>"
      ],
      "text/plain": [
       "                     pct_quantity_correct_kept  pct_quantity_kept  \\\n",
       "garment_category_id                                                 \n",
       "1                                     0.382821           0.362848   \n",
       "6                                     0.533869           0.551275   \n",
       "9                                     0.537931           0.471287   \n",
       "12                                    0.544081           0.547287   \n",
       "\n",
       "                    quantity_correct_kept_CI quantity_kept_CI  \n",
       "garment_category_id                                            \n",
       "1                             [0.352, 0.414]   [0.343, 0.383]  \n",
       "6                             [0.501, 0.567]   [0.529, 0.574]  \n",
       "9                             [0.457, 0.619]   [0.428, 0.515]  \n",
       "12                            [0.495, 0.593]    [0.52, 0.574]  "
      ]
     },
     "execution_count": 13,
     "metadata": {},
     "output_type": "execute_result"
    }
   ],
   "source": [
    "df_agg[df_agg.columns[7:]]"
   ]
  },
  {
   "cell_type": "code",
   "execution_count": null,
   "metadata": {},
   "outputs": [],
   "source": []
  }
 ],
 "metadata": {
  "kernelspec": {
   "display_name": "python3-venv",
   "language": "python",
   "name": "python3-venv"
  },
  "language_info": {
   "codemirror_mode": {
    "name": "ipython",
    "version": 3
   },
   "file_extension": ".py",
   "mimetype": "text/x-python",
   "name": "python",
   "nbconvert_exporter": "python",
   "pygments_lexer": "ipython3",
   "version": "3.7.7"
  }
 },
 "nbformat": 4,
 "nbformat_minor": 4
}
